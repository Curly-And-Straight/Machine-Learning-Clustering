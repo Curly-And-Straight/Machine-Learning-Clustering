{
 "cells": [
  {
   "cell_type": "code",
   "execution_count": null,
   "metadata": {},
   "outputs": [],
   "source": []
  },
  {
   "cell_type": "code",
   "execution_count": 8,
   "metadata": {},
   "outputs": [],
   "source": [
    "import numpy as np\n",
    "import pandas as pd\n",
    "import glob\n",
    "from os import listdir\n",
    "\n",
    "from keras.preprocessing.image import load_img\n",
    "from keras.preprocessing.image import img_to_array"
   ]
  },
  {
   "cell_type": "code",
   "execution_count": 11,
   "metadata": {},
   "outputs": [],
   "source": [
    "def create_dataframe(folder_name):\n",
    "    \n",
    "    dataset = pd.DataFrame(columns=['image', 'label'])\n",
    "    folders = glob.glob('./dataset/{}/images/*'.format(folder_name))\n",
    "    for folder in folders:\n",
    "        classes = glob.glob('{}/*.jpg'.format(folder))\n",
    "        for image in classes:\n",
    "            label = str(folder).split('\\\\')[1]\n",
    "            photo = load_img(image, target_size=(32, 32))\n",
    "            photo = img_to_array(photo)\n",
    "            dataset = dataset.append({'image': photo, 'label': label}, ignore_index=True)\n",
    "    return dataset"
   ]
  },
  {
   "cell_type": "code",
   "execution_count": 12,
   "metadata": {},
   "outputs": [
    {
     "data": {
      "text/html": [
       "<div>\n",
       "<style scoped>\n",
       "    .dataframe tbody tr th:only-of-type {\n",
       "        vertical-align: middle;\n",
       "    }\n",
       "\n",
       "    .dataframe tbody tr th {\n",
       "        vertical-align: top;\n",
       "    }\n",
       "\n",
       "    .dataframe thead th {\n",
       "        text-align: right;\n",
       "    }\n",
       "</style>\n",
       "<table border=\"1\" class=\"dataframe\">\n",
       "  <thead>\n",
       "    <tr style=\"text-align: right;\">\n",
       "      <th></th>\n",
       "      <th>image</th>\n",
       "      <th>label</th>\n",
       "    </tr>\n",
       "  </thead>\n",
       "  <tbody>\n",
       "    <tr>\n",
       "      <th>0</th>\n",
       "      <td>[[[181.0, 187.0, 199.0], [188.0, 196.0, 207.0]...</td>\n",
       "      <td>aeroplane</td>\n",
       "    </tr>\n",
       "    <tr>\n",
       "      <th>1</th>\n",
       "      <td>[[[91.0, 108.0, 134.0], [90.0, 110.0, 135.0], ...</td>\n",
       "      <td>aeroplane</td>\n",
       "    </tr>\n",
       "    <tr>\n",
       "      <th>2</th>\n",
       "      <td>[[[254.0, 254.0, 254.0], [255.0, 255.0, 255.0]...</td>\n",
       "      <td>aeroplane</td>\n",
       "    </tr>\n",
       "    <tr>\n",
       "      <th>3</th>\n",
       "      <td>[[[81.0, 150.0, 227.0], [83.0, 149.0, 227.0], ...</td>\n",
       "      <td>aeroplane</td>\n",
       "    </tr>\n",
       "    <tr>\n",
       "      <th>4</th>\n",
       "      <td>[[[72.0, 94.0, 151.0], [74.0, 99.0, 155.0], [7...</td>\n",
       "      <td>aeroplane</td>\n",
       "    </tr>\n",
       "    <tr>\n",
       "      <th>...</th>\n",
       "      <td>...</td>\n",
       "      <td>...</td>\n",
       "    </tr>\n",
       "    <tr>\n",
       "      <th>527</th>\n",
       "      <td>[[[92.0, 107.0, 104.0], [104.0, 114.0, 113.0],...</td>\n",
       "      <td>tvmonitor</td>\n",
       "    </tr>\n",
       "    <tr>\n",
       "      <th>528</th>\n",
       "      <td>[[[154.0, 152.0, 140.0], [161.0, 159.0, 146.0]...</td>\n",
       "      <td>tvmonitor</td>\n",
       "    </tr>\n",
       "    <tr>\n",
       "      <th>529</th>\n",
       "      <td>[[[204.0, 189.0, 160.0], [210.0, 196.0, 169.0]...</td>\n",
       "      <td>tvmonitor</td>\n",
       "    </tr>\n",
       "    <tr>\n",
       "      <th>530</th>\n",
       "      <td>[[[64.0, 42.0, 31.0], [115.0, 67.0, 31.0], [15...</td>\n",
       "      <td>tvmonitor</td>\n",
       "    </tr>\n",
       "    <tr>\n",
       "      <th>531</th>\n",
       "      <td>[[[130.0, 133.0, 122.0], [137.0, 138.0, 132.0]...</td>\n",
       "      <td>tvmonitor</td>\n",
       "    </tr>\n",
       "  </tbody>\n",
       "</table>\n",
       "<p>532 rows × 2 columns</p>\n",
       "</div>"
      ],
      "text/plain": [
       "                                                 image      label\n",
       "0    [[[181.0, 187.0, 199.0], [188.0, 196.0, 207.0]...  aeroplane\n",
       "1    [[[91.0, 108.0, 134.0], [90.0, 110.0, 135.0], ...  aeroplane\n",
       "2    [[[254.0, 254.0, 254.0], [255.0, 255.0, 255.0]...  aeroplane\n",
       "3    [[[81.0, 150.0, 227.0], [83.0, 149.0, 227.0], ...  aeroplane\n",
       "4    [[[72.0, 94.0, 151.0], [74.0, 99.0, 155.0], [7...  aeroplane\n",
       "..                                                 ...        ...\n",
       "527  [[[92.0, 107.0, 104.0], [104.0, 114.0, 113.0],...  tvmonitor\n",
       "528  [[[154.0, 152.0, 140.0], [161.0, 159.0, 146.0]...  tvmonitor\n",
       "529  [[[204.0, 189.0, 160.0], [210.0, 196.0, 169.0]...  tvmonitor\n",
       "530  [[[64.0, 42.0, 31.0], [115.0, 67.0, 31.0], [15...  tvmonitor\n",
       "531  [[[130.0, 133.0, 122.0], [137.0, 138.0, 132.0]...  tvmonitor\n",
       "\n",
       "[532 rows x 2 columns]"
      ]
     },
     "execution_count": 12,
     "metadata": {},
     "output_type": "execute_result"
    }
   ],
   "source": [
    "create_dataframe('train')"
   ]
  },
  {
   "cell_type": "code",
   "execution_count": null,
   "metadata": {},
   "outputs": [],
   "source": []
  },
  {
   "cell_type": "code",
   "execution_count": null,
   "metadata": {},
   "outputs": [],
   "source": []
  },
  {
   "cell_type": "code",
   "execution_count": null,
   "metadata": {},
   "outputs": [],
   "source": []
  },
  {
   "cell_type": "code",
   "execution_count": null,
   "metadata": {},
   "outputs": [],
   "source": []
  },
  {
   "cell_type": "code",
   "execution_count": null,
   "metadata": {},
   "outputs": [],
   "source": []
  },
  {
   "cell_type": "code",
   "execution_count": null,
   "metadata": {},
   "outputs": [],
   "source": []
  },
  {
   "cell_type": "code",
   "execution_count": null,
   "metadata": {},
   "outputs": [],
   "source": []
  },
  {
   "cell_type": "code",
   "execution_count": null,
   "metadata": {},
   "outputs": [],
   "source": []
  }
 ],
 "metadata": {
  "kernelspec": {
   "display_name": "Python 3",
   "language": "python",
   "name": "python3"
  },
  "language_info": {
   "codemirror_mode": {
    "name": "ipython",
    "version": 3
   },
   "file_extension": ".py",
   "mimetype": "text/x-python",
   "name": "python",
   "nbconvert_exporter": "python",
   "pygments_lexer": "ipython3",
   "version": "3.8.6"
  }
 },
 "nbformat": 4,
 "nbformat_minor": 4
}
