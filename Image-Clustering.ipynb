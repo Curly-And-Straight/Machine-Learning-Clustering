{
 "cells": [
  {
   "cell_type": "code",
   "execution_count": 1,
   "metadata": {},
   "outputs": [],
   "source": [
    "# !pip install keras"
   ]
  },
  {
   "cell_type": "code",
   "execution_count": 2,
   "metadata": {},
   "outputs": [],
   "source": [
    "# !pip install tensorflow"
   ]
  },
  {
   "cell_type": "code",
   "execution_count": 3,
   "metadata": {},
   "outputs": [],
   "source": [
    "import numpy as np\n",
    "import pandas as pd\n",
    "import glob\n",
    "from PIL import Image\n",
    "\n",
    "from keras.models import Sequential\n",
    "from keras.layers import Dense, Dropout, Flatten, BatchNormalization, Activation\n",
    "from keras.layers.convolutional import Conv2D, MaxPooling2D\n",
    "from keras.constraints import maxnorm\n",
    "from keras.utils import np_utils\n",
    "\n",
    "import tensorflow as tf\n",
    "from keras.preprocessing.image import load_img\n",
    "from keras.preprocessing.image import img_to_array"
   ]
  },
  {
   "cell_type": "code",
   "execution_count": null,
   "metadata": {},
   "outputs": [],
   "source": []
  },
  {
   "cell_type": "code",
   "execution_count": null,
   "metadata": {},
   "outputs": [],
   "source": []
  },
  {
   "cell_type": "code",
   "execution_count": null,
   "metadata": {},
   "outputs": [],
   "source": []
  },
  {
   "cell_type": "code",
   "execution_count": 4,
   "metadata": {},
   "outputs": [],
   "source": [
    "def create_dataframe(folder_name):\n",
    "    \n",
    "    dataset = pd.DataFrame(columns=['image', 'label'])\n",
    "    folders = glob.glob('./dataset/{}/images/*'.format(folder_name))\n",
    "    for folder in folders:\n",
    "        classes = glob.glob('{}/*.jpg'.format(folder))\n",
    "        for image in classes:\n",
    "            label = str(folder).split('\\\\')[1]\n",
    "            photo = load_img(image, target_size=(32, 32))\n",
    "            photo = np.divide(img_to_array(photo), 255.0)\n",
    "            dataset = dataset.append({'image': photo, 'label': label}, ignore_index=True)\n",
    "    return dataset"
   ]
  },
  {
   "cell_type": "code",
   "execution_count": 5,
   "metadata": {},
   "outputs": [],
   "source": [
    "train = create_dataframe('train')\n",
    "test = create_dataframe('test')"
   ]
  },
  {
   "cell_type": "code",
   "execution_count": 6,
   "metadata": {},
   "outputs": [
    {
     "data": {
      "text/html": [
       "<div>\n",
       "<style scoped>\n",
       "    .dataframe tbody tr th:only-of-type {\n",
       "        vertical-align: middle;\n",
       "    }\n",
       "\n",
       "    .dataframe tbody tr th {\n",
       "        vertical-align: top;\n",
       "    }\n",
       "\n",
       "    .dataframe thead th {\n",
       "        text-align: right;\n",
       "    }\n",
       "</style>\n",
       "<table border=\"1\" class=\"dataframe\">\n",
       "  <thead>\n",
       "    <tr style=\"text-align: right;\">\n",
       "      <th></th>\n",
       "      <th>image</th>\n",
       "      <th>label</th>\n",
       "    </tr>\n",
       "  </thead>\n",
       "  <tbody>\n",
       "    <tr>\n",
       "      <th>0</th>\n",
       "      <td>[[[0.70980394, 0.73333335, 0.78039217], [0.737...</td>\n",
       "      <td>aeroplane</td>\n",
       "    </tr>\n",
       "    <tr>\n",
       "      <th>1</th>\n",
       "      <td>[[[0.35686275, 0.42352942, 0.5254902], [0.3529...</td>\n",
       "      <td>aeroplane</td>\n",
       "    </tr>\n",
       "    <tr>\n",
       "      <th>2</th>\n",
       "      <td>[[[0.99607843, 0.99607843, 0.99607843], [1.0, ...</td>\n",
       "      <td>aeroplane</td>\n",
       "    </tr>\n",
       "    <tr>\n",
       "      <th>3</th>\n",
       "      <td>[[[0.31764707, 0.5882353, 0.8901961], [0.32549...</td>\n",
       "      <td>aeroplane</td>\n",
       "    </tr>\n",
       "    <tr>\n",
       "      <th>4</th>\n",
       "      <td>[[[0.28235295, 0.36862746, 0.5921569], [0.2901...</td>\n",
       "      <td>aeroplane</td>\n",
       "    </tr>\n",
       "    <tr>\n",
       "      <th>...</th>\n",
       "      <td>...</td>\n",
       "      <td>...</td>\n",
       "    </tr>\n",
       "    <tr>\n",
       "      <th>527</th>\n",
       "      <td>[[[0.36078432, 0.41960785, 0.40784314], [0.407...</td>\n",
       "      <td>tvmonitor</td>\n",
       "    </tr>\n",
       "    <tr>\n",
       "      <th>528</th>\n",
       "      <td>[[[0.6039216, 0.59607846, 0.54901963], [0.6313...</td>\n",
       "      <td>tvmonitor</td>\n",
       "    </tr>\n",
       "    <tr>\n",
       "      <th>529</th>\n",
       "      <td>[[[0.8, 0.7411765, 0.627451], [0.8235294, 0.76...</td>\n",
       "      <td>tvmonitor</td>\n",
       "    </tr>\n",
       "    <tr>\n",
       "      <th>530</th>\n",
       "      <td>[[[0.2509804, 0.16470589, 0.12156863], [0.4509...</td>\n",
       "      <td>tvmonitor</td>\n",
       "    </tr>\n",
       "    <tr>\n",
       "      <th>531</th>\n",
       "      <td>[[[0.50980395, 0.52156866, 0.47843137], [0.537...</td>\n",
       "      <td>tvmonitor</td>\n",
       "    </tr>\n",
       "  </tbody>\n",
       "</table>\n",
       "<p>532 rows × 2 columns</p>\n",
       "</div>"
      ],
      "text/plain": [
       "                                                 image      label\n",
       "0    [[[0.70980394, 0.73333335, 0.78039217], [0.737...  aeroplane\n",
       "1    [[[0.35686275, 0.42352942, 0.5254902], [0.3529...  aeroplane\n",
       "2    [[[0.99607843, 0.99607843, 0.99607843], [1.0, ...  aeroplane\n",
       "3    [[[0.31764707, 0.5882353, 0.8901961], [0.32549...  aeroplane\n",
       "4    [[[0.28235295, 0.36862746, 0.5921569], [0.2901...  aeroplane\n",
       "..                                                 ...        ...\n",
       "527  [[[0.36078432, 0.41960785, 0.40784314], [0.407...  tvmonitor\n",
       "528  [[[0.6039216, 0.59607846, 0.54901963], [0.6313...  tvmonitor\n",
       "529  [[[0.8, 0.7411765, 0.627451], [0.8235294, 0.76...  tvmonitor\n",
       "530  [[[0.2509804, 0.16470589, 0.12156863], [0.4509...  tvmonitor\n",
       "531  [[[0.50980395, 0.52156866, 0.47843137], [0.537...  tvmonitor\n",
       "\n",
       "[532 rows x 2 columns]"
      ]
     },
     "execution_count": 6,
     "metadata": {},
     "output_type": "execute_result"
    }
   ],
   "source": [
    "train"
   ]
  },
  {
   "cell_type": "code",
   "execution_count": null,
   "metadata": {},
   "outputs": [],
   "source": []
  },
  {
   "cell_type": "code",
   "execution_count": 7,
   "metadata": {},
   "outputs": [
    {
     "data": {
      "text/plain": [
       "0      [[[0.85490197, 0.87058824, 0.8745098], [0.8549...\n",
       "1      [[[0.6313726, 0.65882355, 0.72156864], [0.5686...\n",
       "2      [[[0.20784314, 0.17254902, 0.105882354], [0.24...\n",
       "3      [[[0.8627451, 0.8745098, 0.93333334], [0.88235...\n",
       "4      [[[0.5921569, 0.72156864, 0.84313726], [0.6, 0...\n",
       "                             ...                        \n",
       "375    [[[0.2627451, 0.23529412, 0.16470589], [0.1921...\n",
       "376    [[[0.08627451, 0.02745098, 0.0], [0.101960786,...\n",
       "377    [[[0.14509805, 0.0627451, 0.043137256], [0.368...\n",
       "378    [[[0.06666667, 0.07450981, 0.0627451], [0.0705...\n",
       "379    [[[0.31764707, 0.31764707, 0.31764707], [0.349...\n",
       "Name: image, Length: 380, dtype: object"
      ]
     },
     "execution_count": 7,
     "metadata": {},
     "output_type": "execute_result"
    }
   ],
   "source": [
    "test.image"
   ]
  },
  {
   "cell_type": "code",
   "execution_count": 8,
   "metadata": {},
   "outputs": [],
   "source": [
    "X_train = pd.DataFrame()\n",
    "X_test = pd.DataFrame()\n",
    "\n",
    "X_train['image'] = train.image\n",
    "X_test['image']  = test.image"
   ]
  },
  {
   "cell_type": "code",
   "execution_count": 9,
   "metadata": {},
   "outputs": [
    {
     "data": {
      "text/html": [
       "<div>\n",
       "<style scoped>\n",
       "    .dataframe tbody tr th:only-of-type {\n",
       "        vertical-align: middle;\n",
       "    }\n",
       "\n",
       "    .dataframe tbody tr th {\n",
       "        vertical-align: top;\n",
       "    }\n",
       "\n",
       "    .dataframe thead th {\n",
       "        text-align: right;\n",
       "    }\n",
       "</style>\n",
       "<table border=\"1\" class=\"dataframe\">\n",
       "  <thead>\n",
       "    <tr style=\"text-align: right;\">\n",
       "      <th></th>\n",
       "      <th>image</th>\n",
       "    </tr>\n",
       "  </thead>\n",
       "  <tbody>\n",
       "    <tr>\n",
       "      <th>0</th>\n",
       "      <td>[[[0.70980394, 0.73333335, 0.78039217], [0.737...</td>\n",
       "    </tr>\n",
       "    <tr>\n",
       "      <th>1</th>\n",
       "      <td>[[[0.35686275, 0.42352942, 0.5254902], [0.3529...</td>\n",
       "    </tr>\n",
       "    <tr>\n",
       "      <th>2</th>\n",
       "      <td>[[[0.99607843, 0.99607843, 0.99607843], [1.0, ...</td>\n",
       "    </tr>\n",
       "    <tr>\n",
       "      <th>3</th>\n",
       "      <td>[[[0.31764707, 0.5882353, 0.8901961], [0.32549...</td>\n",
       "    </tr>\n",
       "    <tr>\n",
       "      <th>4</th>\n",
       "      <td>[[[0.28235295, 0.36862746, 0.5921569], [0.2901...</td>\n",
       "    </tr>\n",
       "    <tr>\n",
       "      <th>...</th>\n",
       "      <td>...</td>\n",
       "    </tr>\n",
       "    <tr>\n",
       "      <th>527</th>\n",
       "      <td>[[[0.36078432, 0.41960785, 0.40784314], [0.407...</td>\n",
       "    </tr>\n",
       "    <tr>\n",
       "      <th>528</th>\n",
       "      <td>[[[0.6039216, 0.59607846, 0.54901963], [0.6313...</td>\n",
       "    </tr>\n",
       "    <tr>\n",
       "      <th>529</th>\n",
       "      <td>[[[0.8, 0.7411765, 0.627451], [0.8235294, 0.76...</td>\n",
       "    </tr>\n",
       "    <tr>\n",
       "      <th>530</th>\n",
       "      <td>[[[0.2509804, 0.16470589, 0.12156863], [0.4509...</td>\n",
       "    </tr>\n",
       "    <tr>\n",
       "      <th>531</th>\n",
       "      <td>[[[0.50980395, 0.52156866, 0.47843137], [0.537...</td>\n",
       "    </tr>\n",
       "  </tbody>\n",
       "</table>\n",
       "<p>532 rows × 1 columns</p>\n",
       "</div>"
      ],
      "text/plain": [
       "                                                 image\n",
       "0    [[[0.70980394, 0.73333335, 0.78039217], [0.737...\n",
       "1    [[[0.35686275, 0.42352942, 0.5254902], [0.3529...\n",
       "2    [[[0.99607843, 0.99607843, 0.99607843], [1.0, ...\n",
       "3    [[[0.31764707, 0.5882353, 0.8901961], [0.32549...\n",
       "4    [[[0.28235295, 0.36862746, 0.5921569], [0.2901...\n",
       "..                                                 ...\n",
       "527  [[[0.36078432, 0.41960785, 0.40784314], [0.407...\n",
       "528  [[[0.6039216, 0.59607846, 0.54901963], [0.6313...\n",
       "529  [[[0.8, 0.7411765, 0.627451], [0.8235294, 0.76...\n",
       "530  [[[0.2509804, 0.16470589, 0.12156863], [0.4509...\n",
       "531  [[[0.50980395, 0.52156866, 0.47843137], [0.537...\n",
       "\n",
       "[532 rows x 1 columns]"
      ]
     },
     "execution_count": 9,
     "metadata": {},
     "output_type": "execute_result"
    }
   ],
   "source": [
    "X_train"
   ]
  },
  {
   "cell_type": "code",
   "execution_count": 28,
   "metadata": {},
   "outputs": [
    {
     "data": {
      "text/plain": [
       "(532, 1)"
      ]
     },
     "execution_count": 28,
     "metadata": {},
     "output_type": "execute_result"
    }
   ],
   "source": [
    "X_train.shape"
   ]
  },
  {
   "cell_type": "code",
   "execution_count": null,
   "metadata": {},
   "outputs": [],
   "source": [
    "model = Sequential()\n",
    "model.add(Conv2D(16,(5,5),padding='valid',input_shape = X_train.shape[1:]))\n",
    "model.add(Activation('relu'))\n",
    "model.add(MaxPooling2D(pool_size=(2,2),strides=2,padding = 'valid'))\n",
    "model.add(Dropout(0.4))\n",
    "model.add(Conv2D(32,(5,5),padding='valid'))\n",
    "model.add(Activation('relu'))\n",
    "model.add(MaxPooling2D(pool_size=(2,2),strides=2,padding = 'valid'))\n",
    "model.add(Dropout(0.6))\n",
    "model.add(Conv2D(64,(5,5),padding='valid'))\n",
    "model.add(Activation('relu'))\n",
    "model.add(Dropout(0.8))\n",
    "model.add(Flatten())\n",
    "model.add(Dense(2))\n",
    "model.add(Activation('softmax'))\n",
    "\n",
    "batch_size = 100\n",
    "epochs= 100\n",
    "\n",
    "optimizer = keras.optimizers.rmsprop(lr = 0.0001, decay = 1e-6)\n",
    "\n",
    "model.compile(loss = 'binary_crossentropy',optimizer = optimizer, metrics = ['accuracy',keras_metrics.precision(), keras_metrics.recall()])\n",
    "\n",
    "history = model.fit(X_train,y_train,steps_per_epoch = int(len(X_train)/batch_size),epochs=epochs)\n",
    "history"
   ]
  },
  {
   "cell_type": "code",
   "execution_count": null,
   "metadata": {},
   "outputs": [],
   "source": []
  },
  {
   "cell_type": "code",
   "execution_count": null,
   "metadata": {},
   "outputs": [],
   "source": []
  },
  {
   "cell_type": "code",
   "execution_count": null,
   "metadata": {},
   "outputs": [],
   "source": []
  },
  {
   "cell_type": "code",
   "execution_count": null,
   "metadata": {},
   "outputs": [],
   "source": []
  },
  {
   "cell_type": "code",
   "execution_count": null,
   "metadata": {},
   "outputs": [],
   "source": []
  },
  {
   "cell_type": "code",
   "execution_count": null,
   "metadata": {},
   "outputs": [],
   "source": []
  },
  {
   "cell_type": "code",
   "execution_count": null,
   "metadata": {},
   "outputs": [],
   "source": []
  },
  {
   "cell_type": "code",
   "execution_count": null,
   "metadata": {},
   "outputs": [],
   "source": []
  },
  {
   "cell_type": "code",
   "execution_count": 10,
   "metadata": {},
   "outputs": [],
   "source": [
    "# from sklearn.preprocessing import LabelEncoder\n",
    "# label_encoder = LabelEncoder()\n",
    "# y_train = label_encoder.fit_transform(train.label)\n",
    "# y_test = label_encoder.fit_transform(test.label)"
   ]
  },
  {
   "cell_type": "code",
   "execution_count": 11,
   "metadata": {},
   "outputs": [],
   "source": [
    "# y_train = np_utils.to_categorical(y_train, 19)\n",
    "# y_test  = np_utils.to_categorical(y_test, 19)"
   ]
  },
  {
   "cell_type": "code",
   "execution_count": 12,
   "metadata": {},
   "outputs": [],
   "source": [
    "# y_train"
   ]
  },
  {
   "cell_type": "code",
   "execution_count": 13,
   "metadata": {},
   "outputs": [],
   "source": [
    "# seed = 21\n",
    "# class_num = 19"
   ]
  },
  {
   "cell_type": "code",
   "execution_count": 14,
   "metadata": {},
   "outputs": [],
   "source": [
    "# model = Sequential()"
   ]
  },
  {
   "cell_type": "code",
   "execution_count": 15,
   "metadata": {},
   "outputs": [],
   "source": [
    "# X_train"
   ]
  },
  {
   "cell_type": "code",
   "execution_count": 16,
   "metadata": {},
   "outputs": [],
   "source": [
    "# model.add(Conv2D(32, (3, 3), input_shape=(32, 32, 32), padding='same'))\n",
    "# model.add(Activation('relu'))\n",
    "\n",
    "# model.add(Conv2D(32, (3, 3), input_shape=(32, 32, 32), activation='relu', padding='same'))\n",
    "\n",
    "# model.add(Dropout(0.2))\n",
    "\n",
    "# model.add(BatchNormalization())\n",
    "\n",
    "# model.add(Conv2D(64, (3, 3), padding='same'))\n",
    "# model.add(Activation('relu'))\n",
    "\n",
    "# model.add(MaxPooling2D(pool_size=(2, 2)))\n",
    "# model.add(Dropout(0.2))\n",
    "# model.add(BatchNormalization())"
   ]
  },
  {
   "cell_type": "code",
   "execution_count": null,
   "metadata": {},
   "outputs": [],
   "source": []
  },
  {
   "cell_type": "code",
   "execution_count": 17,
   "metadata": {},
   "outputs": [],
   "source": [
    "# model.add(Conv2D(64, (3, 3), padding='same'))\n",
    "# model.add(Activation('relu'))\n",
    "# model.add(MaxPooling2D(pool_size=(2, 2)))\n",
    "# model.add(Dropout(0.2))\n",
    "# model.add(BatchNormalization())\n",
    "    \n",
    "# model.add(Conv2D(128, (3, 3), padding='same'))\n",
    "# model.add(Activation('relu'))\n",
    "# model.add(Dropout(0.2))\n",
    "# model.add(BatchNormalization())"
   ]
  },
  {
   "cell_type": "code",
   "execution_count": 18,
   "metadata": {},
   "outputs": [],
   "source": [
    "# model.add(Flatten())\n",
    "# model.add(Dropout(0.2))"
   ]
  },
  {
   "cell_type": "code",
   "execution_count": 19,
   "metadata": {},
   "outputs": [],
   "source": [
    "# model.add(Dense(256, kernel_constraint=maxnorm(3)))\n",
    "# model.add(Activation('relu'))\n",
    "# model.add(Dropout(0.2))\n",
    "# model.add(BatchNormalization())\n",
    "    \n",
    "# model.add(Dense(128, kernel_constraint=maxnorm(3)))\n",
    "# model.add(Activation('relu'))\n",
    "# model.add(Dropout(0.2))\n",
    "# model.add(BatchNormalization())"
   ]
  },
  {
   "cell_type": "code",
   "execution_count": 20,
   "metadata": {},
   "outputs": [],
   "source": [
    "# model.add(Dense(class_num))\n",
    "# model.add(Activation('softmax'))"
   ]
  },
  {
   "cell_type": "code",
   "execution_count": 21,
   "metadata": {},
   "outputs": [],
   "source": [
    "# epochs = 25\n",
    "# optimizer = 'adam'"
   ]
  },
  {
   "cell_type": "code",
   "execution_count": 22,
   "metadata": {},
   "outputs": [],
   "source": [
    "# model.compile(loss='categorical_crossentropy', optimizer=optimizer, metrics=['accuracy'])"
   ]
  },
  {
   "cell_type": "code",
   "execution_count": 23,
   "metadata": {},
   "outputs": [],
   "source": [
    "# print(model.summary())"
   ]
  },
  {
   "cell_type": "code",
   "execution_count": 24,
   "metadata": {},
   "outputs": [],
   "source": [
    "# X_train = np.asarray(X_train.values).astype('float32')\n",
    "# X_test = np.asarray(X_test.values).astype('float32')"
   ]
  },
  {
   "cell_type": "code",
   "execution_count": 25,
   "metadata": {},
   "outputs": [],
   "source": [
    "# np.random.seed(seed)\n",
    "# model.fit(X_train, y_train, epochs=epochs, batch_size=64)"
   ]
  },
  {
   "cell_type": "code",
   "execution_count": null,
   "metadata": {},
   "outputs": [],
   "source": []
  },
  {
   "cell_type": "code",
   "execution_count": 26,
   "metadata": {},
   "outputs": [],
   "source": [
    "# scores = model.evaluate(X_test, y_test, verbose=0)\n",
    "# print(\"Accuracy: %.2f%%\" % (scores[1]*100))"
   ]
  },
  {
   "cell_type": "code",
   "execution_count": null,
   "metadata": {},
   "outputs": [],
   "source": []
  },
  {
   "cell_type": "code",
   "execution_count": null,
   "metadata": {},
   "outputs": [],
   "source": []
  }
 ],
 "metadata": {
  "kernelspec": {
   "display_name": "Python 3",
   "language": "python",
   "name": "python3"
  },
  "language_info": {
   "codemirror_mode": {
    "name": "ipython",
    "version": 3
   },
   "file_extension": ".py",
   "mimetype": "text/x-python",
   "name": "python",
   "nbconvert_exporter": "python",
   "pygments_lexer": "ipython3",
   "version": "3.8.6"
  }
 },
 "nbformat": 4,
 "nbformat_minor": 4
}
