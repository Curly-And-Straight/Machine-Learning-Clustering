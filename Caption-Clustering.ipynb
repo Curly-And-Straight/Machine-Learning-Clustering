{
 "cells": [
  {
   "cell_type": "code",
   "execution_count": null,
   "metadata": {},
   "outputs": [],
   "source": []
  },
  {
   "cell_type": "code",
   "execution_count": 3,
   "metadata": {},
   "outputs": [],
   "source": [
    "import numpy as np\n",
    "import pandas as pd\n",
    "import glob"
   ]
  },
  {
   "cell_type": "code",
   "execution_count": 54,
   "metadata": {},
   "outputs": [],
   "source": [
    "def create_dataframe(folder_name):\n",
    "    \n",
    "    dataset = pd.DataFrame(columns=['caption', 'label'])\n",
    "\n",
    "    folders = glob.glob('./dataset/{}/sentences/*'.format(folder_name))\n",
    "    for folder in folders:\n",
    "        classes = glob.glob('{}/*.txt'.format(folder))\n",
    "        for caption in classes:\n",
    "            with open(caption, 'r') as file:\n",
    "                inside_file = file.read()\n",
    "                label = str(folder).split('\\\\')[1]\n",
    "                for line in inside_file.split('\\n'):\n",
    "                    if line:\n",
    "                        dataset = dataset.append({'caption': line, 'label': label}, ignore_index=True)\n",
    "    return dataset"
   ]
  },
  {
   "cell_type": "code",
   "execution_count": 55,
   "metadata": {},
   "outputs": [
    {
     "data": {
      "text/html": [
       "<div>\n",
       "<style scoped>\n",
       "    .dataframe tbody tr th:only-of-type {\n",
       "        vertical-align: middle;\n",
       "    }\n",
       "\n",
       "    .dataframe tbody tr th {\n",
       "        vertical-align: top;\n",
       "    }\n",
       "\n",
       "    .dataframe thead th {\n",
       "        text-align: right;\n",
       "    }\n",
       "</style>\n",
       "<table border=\"1\" class=\"dataframe\">\n",
       "  <thead>\n",
       "    <tr style=\"text-align: right;\">\n",
       "      <th></th>\n",
       "      <th>caption</th>\n",
       "      <th>label</th>\n",
       "    </tr>\n",
       "  </thead>\n",
       "  <tbody>\n",
       "    <tr>\n",
       "      <th>0</th>\n",
       "      <td>Two gentleman talking in front of propeller pl...</td>\n",
       "      <td>aeroplane</td>\n",
       "    </tr>\n",
       "    <tr>\n",
       "      <th>1</th>\n",
       "      <td>Two men are conversing next to a small airplane.</td>\n",
       "      <td>aeroplane</td>\n",
       "    </tr>\n",
       "    <tr>\n",
       "      <th>2</th>\n",
       "      <td>Two men talking in front of a plane</td>\n",
       "      <td>aeroplane</td>\n",
       "    </tr>\n",
       "    <tr>\n",
       "      <th>3</th>\n",
       "      <td>Two men talking in front of a small plane.</td>\n",
       "      <td>aeroplane</td>\n",
       "    </tr>\n",
       "    <tr>\n",
       "      <th>4</th>\n",
       "      <td>Two men talk while standing next to a small pa...</td>\n",
       "      <td>aeroplane</td>\n",
       "    </tr>\n",
       "  </tbody>\n",
       "</table>\n",
       "</div>"
      ],
      "text/plain": [
       "                                             caption      label\n",
       "0  Two gentleman talking in front of propeller pl...  aeroplane\n",
       "1   Two men are conversing next to a small airplane.  aeroplane\n",
       "2                Two men talking in front of a plane  aeroplane\n",
       "3         Two men talking in front of a small plane.  aeroplane\n",
       "4  Two men talk while standing next to a small pa...  aeroplane"
      ]
     },
     "execution_count": 55,
     "metadata": {},
     "output_type": "execute_result"
    }
   ],
   "source": [
    "train = create_dataframe('train')\n",
    "train.head()"
   ]
  },
  {
   "cell_type": "code",
   "execution_count": 56,
   "metadata": {},
   "outputs": [
    {
     "data": {
      "text/html": [
       "<div>\n",
       "<style scoped>\n",
       "    .dataframe tbody tr th:only-of-type {\n",
       "        vertical-align: middle;\n",
       "    }\n",
       "\n",
       "    .dataframe tbody tr th {\n",
       "        vertical-align: top;\n",
       "    }\n",
       "\n",
       "    .dataframe thead th {\n",
       "        text-align: right;\n",
       "    }\n",
       "</style>\n",
       "<table border=\"1\" class=\"dataframe\">\n",
       "  <thead>\n",
       "    <tr style=\"text-align: right;\">\n",
       "      <th></th>\n",
       "      <th>caption</th>\n",
       "      <th>label</th>\n",
       "    </tr>\n",
       "  </thead>\n",
       "  <tbody>\n",
       "    <tr>\n",
       "      <th>0</th>\n",
       "      <td>An airplane facing the camera.</td>\n",
       "      <td>aeroplane</td>\n",
       "    </tr>\n",
       "    <tr>\n",
       "      <th>1</th>\n",
       "      <td>A plane is sitting on the cement at a small ai...</td>\n",
       "      <td>aeroplane</td>\n",
       "    </tr>\n",
       "    <tr>\n",
       "      <th>2</th>\n",
       "      <td>Front of a twin engine propeller airplane.</td>\n",
       "      <td>aeroplane</td>\n",
       "    </tr>\n",
       "    <tr>\n",
       "      <th>3</th>\n",
       "      <td>Front view of a propeller airplane parked on a...</td>\n",
       "      <td>aeroplane</td>\n",
       "    </tr>\n",
       "    <tr>\n",
       "      <th>4</th>\n",
       "      <td>The historic planes sits in its place.</td>\n",
       "      <td>aeroplane</td>\n",
       "    </tr>\n",
       "  </tbody>\n",
       "</table>\n",
       "</div>"
      ],
      "text/plain": [
       "                                             caption      label\n",
       "0                     An airplane facing the camera.  aeroplane\n",
       "1  A plane is sitting on the cement at a small ai...  aeroplane\n",
       "2         Front of a twin engine propeller airplane.  aeroplane\n",
       "3  Front view of a propeller airplane parked on a...  aeroplane\n",
       "4             The historic planes sits in its place.  aeroplane"
      ]
     },
     "execution_count": 56,
     "metadata": {},
     "output_type": "execute_result"
    }
   ],
   "source": [
    "test = create_dataframe('test')\n",
    "test.head()"
   ]
  },
  {
   "cell_type": "code",
   "execution_count": null,
   "metadata": {},
   "outputs": [],
   "source": []
  },
  {
   "cell_type": "code",
   "execution_count": null,
   "metadata": {},
   "outputs": [],
   "source": []
  },
  {
   "cell_type": "code",
   "execution_count": 59,
   "metadata": {},
   "outputs": [],
   "source": [
    "import spacy\n",
    "\n",
    "# I'm gonna use medium size of this model\n",
    "nlp = spacy.load('en_core_web_md')"
   ]
  },
  {
   "cell_type": "code",
   "execution_count": null,
   "metadata": {},
   "outputs": [],
   "source": [
    "def spacy_semantic_similarity(sentence1, sentence2):\n",
    "    sentence1 = nlp(sentence1)\n",
    "    sentence2 = nlp(sentence2)\n",
    "    \n",
    "    return sentence1.similarity(sentence2)\n"
   ]
  },
  {
   "cell_type": "code",
   "execution_count": 71,
   "metadata": {},
   "outputs": [
    {
     "name": "stdout",
     "output_type": "stream",
     "text": [
      "              precision    recall  f1-score   support\n",
      "\n",
      "   aeroplane       0.73      0.82      0.77       100\n",
      "     bicycle       0.44      0.57      0.50       100\n",
      "        bird       0.67      0.71      0.69       100\n",
      "        boat       0.68      0.79      0.73       100\n",
      "         bus       0.54      0.74      0.63       100\n",
      "         car       0.46      0.41      0.43       100\n",
      "         cat       0.53      0.70      0.61       100\n",
      "       chair       0.23      0.17      0.19       101\n",
      "         cow       0.67      0.70      0.69       100\n",
      " diningtable       0.51      0.56      0.54       100\n",
      "         dog       0.44      0.39      0.41       100\n",
      "       horse       0.78      0.72      0.75       100\n",
      "   motorbike       0.69      0.61      0.65       100\n",
      "      person       0.21      0.11      0.14       100\n",
      " pottedplant       0.56      0.22      0.32       100\n",
      "       sheep       0.74      0.75      0.74       100\n",
      "        sofa       0.50      0.43      0.46       100\n",
      "       train       0.77      0.89      0.82       100\n",
      "   tvmonitor       0.47      0.60      0.53       100\n",
      "\n",
      "    accuracy                           0.57      1901\n",
      "   macro avg       0.56      0.57      0.56      1901\n",
      "weighted avg       0.56      0.57      0.56      1901\n",
      "\n"
     ]
    },
    {
     "data": {
      "text/plain": [
       "0.5728563913729616"
      ]
     },
     "execution_count": 71,
     "metadata": {},
     "output_type": "execute_result"
    }
   ],
   "source": [
    "from sklearn.neighbors import KNeighborsClassifier\n",
    "from sklearn.pipeline import Pipeline\n",
    "from sklearn import metrics\n",
    "from sklearn.feature_extraction.text import CountVectorizer\n",
    "from sklearn.feature_extraction.text import TfidfTransformer\n",
    "from sklearn.feature_extraction.text import TfidfVectorizer\n",
    "from sklearn.metrics import accuracy_score\n",
    "\n",
    "X_train = train.caption\n",
    "X_test = test.caption\n",
    "\n",
    "y_train = train.label\n",
    "y_test = test.label\n",
    "\n",
    "# text_clf = Pipeline([('vect', CountVectorizer(stop_words='english')),\n",
    "#                      ('tfidf', TfidfTransformer()),\n",
    "#                      ('clf', KNeighborsClassifier())])\n",
    "\n",
    "text_clf = Pipeline([('tfidf', TfidfVectorizer(stop_words='english')),\n",
    "                     ('clf', KNeighborsClassifier())])\n",
    "\n",
    "\n",
    "\n",
    "text_clf.fit(X_train, y_train)\n",
    "predicted = text_clf.predict(X_test)\n",
    "print(metrics.classification_report(y_test, predicted))\n",
    "accuracy_score(y_test, predicted)"
   ]
  },
  {
   "cell_type": "code",
   "execution_count": null,
   "metadata": {},
   "outputs": [],
   "source": []
  }
 ],
 "metadata": {
  "kernelspec": {
   "display_name": "Python 3",
   "language": "python",
   "name": "python3"
  },
  "language_info": {
   "codemirror_mode": {
    "name": "ipython",
    "version": 3
   },
   "file_extension": ".py",
   "mimetype": "text/x-python",
   "name": "python",
   "nbconvert_exporter": "python",
   "pygments_lexer": "ipython3",
   "version": "3.8.6"
  }
 },
 "nbformat": 4,
 "nbformat_minor": 4
}
