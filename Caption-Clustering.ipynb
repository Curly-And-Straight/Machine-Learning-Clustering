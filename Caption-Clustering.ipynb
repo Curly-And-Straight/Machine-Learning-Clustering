{
 "cells": [
  {
   "cell_type": "code",
   "execution_count": null,
   "metadata": {},
   "outputs": [],
   "source": []
  },
  {
   "cell_type": "code",
   "execution_count": 263,
   "metadata": {},
   "outputs": [],
   "source": [
    "import numpy as np\n",
    "import pandas as pd\n",
    "import glob\n",
    "\n",
    "import nltk\n",
    "from nltk import word_tokenize\n",
    "from nltk.corpus import stopwords\n",
    "from nltk.stem.porter import PorterStemmer\n",
    "from nltk import pos_tag\n",
    "import string\n",
    "\n",
    "from sklearn.neighbors import KNeighborsClassifier\n",
    "from sklearn.pipeline import Pipeline\n",
    "from sklearn import metrics\n",
    "from sklearn.feature_extraction.text import CountVectorizer\n",
    "from sklearn.feature_extraction.text import TfidfTransformer"
   ]
  },
  {
   "cell_type": "code",
   "execution_count": 54,
   "metadata": {},
   "outputs": [],
   "source": [
    "def create_dataframe(folder_name):\n",
    "    \n",
    "    dataset = pd.DataFrame(columns=['caption', 'label'])\n",
    "\n",
    "    folders = glob.glob('./dataset/{}/sentences/*'.format(folder_name))\n",
    "    for folder in folders:\n",
    "        classes = glob.glob('{}/*.txt'.format(folder))\n",
    "        for caption in classes:\n",
    "            with open(caption, 'r') as file:\n",
    "                inside_file = file.read()\n",
    "                label = str(folder).split('\\\\')[1]\n",
    "                for line in inside_file.split('\\n'):\n",
    "                    if line:\n",
    "                        dataset = dataset.append({'caption': line, 'label': label}, ignore_index=True)\n",
    "    return dataset"
   ]
  },
  {
   "cell_type": "code",
   "execution_count": 55,
   "metadata": {},
   "outputs": [
    {
     "data": {
      "text/html": [
       "<div>\n",
       "<style scoped>\n",
       "    .dataframe tbody tr th:only-of-type {\n",
       "        vertical-align: middle;\n",
       "    }\n",
       "\n",
       "    .dataframe tbody tr th {\n",
       "        vertical-align: top;\n",
       "    }\n",
       "\n",
       "    .dataframe thead th {\n",
       "        text-align: right;\n",
       "    }\n",
       "</style>\n",
       "<table border=\"1\" class=\"dataframe\">\n",
       "  <thead>\n",
       "    <tr style=\"text-align: right;\">\n",
       "      <th></th>\n",
       "      <th>caption</th>\n",
       "      <th>label</th>\n",
       "    </tr>\n",
       "  </thead>\n",
       "  <tbody>\n",
       "    <tr>\n",
       "      <th>0</th>\n",
       "      <td>Two gentleman talking in front of propeller pl...</td>\n",
       "      <td>aeroplane</td>\n",
       "    </tr>\n",
       "    <tr>\n",
       "      <th>1</th>\n",
       "      <td>Two men are conversing next to a small airplane.</td>\n",
       "      <td>aeroplane</td>\n",
       "    </tr>\n",
       "    <tr>\n",
       "      <th>2</th>\n",
       "      <td>Two men talking in front of a plane</td>\n",
       "      <td>aeroplane</td>\n",
       "    </tr>\n",
       "    <tr>\n",
       "      <th>3</th>\n",
       "      <td>Two men talking in front of a small plane.</td>\n",
       "      <td>aeroplane</td>\n",
       "    </tr>\n",
       "    <tr>\n",
       "      <th>4</th>\n",
       "      <td>Two men talk while standing next to a small pa...</td>\n",
       "      <td>aeroplane</td>\n",
       "    </tr>\n",
       "  </tbody>\n",
       "</table>\n",
       "</div>"
      ],
      "text/plain": [
       "                                             caption      label\n",
       "0  Two gentleman talking in front of propeller pl...  aeroplane\n",
       "1   Two men are conversing next to a small airplane.  aeroplane\n",
       "2                Two men talking in front of a plane  aeroplane\n",
       "3         Two men talking in front of a small plane.  aeroplane\n",
       "4  Two men talk while standing next to a small pa...  aeroplane"
      ]
     },
     "execution_count": 55,
     "metadata": {},
     "output_type": "execute_result"
    }
   ],
   "source": [
    "train = create_dataframe('train')\n",
    "train.head()"
   ]
  },
  {
   "cell_type": "code",
   "execution_count": 56,
   "metadata": {},
   "outputs": [
    {
     "data": {
      "text/html": [
       "<div>\n",
       "<style scoped>\n",
       "    .dataframe tbody tr th:only-of-type {\n",
       "        vertical-align: middle;\n",
       "    }\n",
       "\n",
       "    .dataframe tbody tr th {\n",
       "        vertical-align: top;\n",
       "    }\n",
       "\n",
       "    .dataframe thead th {\n",
       "        text-align: right;\n",
       "    }\n",
       "</style>\n",
       "<table border=\"1\" class=\"dataframe\">\n",
       "  <thead>\n",
       "    <tr style=\"text-align: right;\">\n",
       "      <th></th>\n",
       "      <th>caption</th>\n",
       "      <th>label</th>\n",
       "    </tr>\n",
       "  </thead>\n",
       "  <tbody>\n",
       "    <tr>\n",
       "      <th>0</th>\n",
       "      <td>An airplane facing the camera.</td>\n",
       "      <td>aeroplane</td>\n",
       "    </tr>\n",
       "    <tr>\n",
       "      <th>1</th>\n",
       "      <td>A plane is sitting on the cement at a small ai...</td>\n",
       "      <td>aeroplane</td>\n",
       "    </tr>\n",
       "    <tr>\n",
       "      <th>2</th>\n",
       "      <td>Front of a twin engine propeller airplane.</td>\n",
       "      <td>aeroplane</td>\n",
       "    </tr>\n",
       "    <tr>\n",
       "      <th>3</th>\n",
       "      <td>Front view of a propeller airplane parked on a...</td>\n",
       "      <td>aeroplane</td>\n",
       "    </tr>\n",
       "    <tr>\n",
       "      <th>4</th>\n",
       "      <td>The historic planes sits in its place.</td>\n",
       "      <td>aeroplane</td>\n",
       "    </tr>\n",
       "  </tbody>\n",
       "</table>\n",
       "</div>"
      ],
      "text/plain": [
       "                                             caption      label\n",
       "0                     An airplane facing the camera.  aeroplane\n",
       "1  A plane is sitting on the cement at a small ai...  aeroplane\n",
       "2         Front of a twin engine propeller airplane.  aeroplane\n",
       "3  Front view of a propeller airplane parked on a...  aeroplane\n",
       "4             The historic planes sits in its place.  aeroplane"
      ]
     },
     "execution_count": 56,
     "metadata": {},
     "output_type": "execute_result"
    }
   ],
   "source": [
    "test = create_dataframe('test')\n",
    "test.head()"
   ]
  },
  {
   "cell_type": "code",
   "execution_count": null,
   "metadata": {},
   "outputs": [],
   "source": []
  },
  {
   "cell_type": "code",
   "execution_count": null,
   "metadata": {},
   "outputs": [],
   "source": []
  },
  {
   "cell_type": "code",
   "execution_count": 142,
   "metadata": {},
   "outputs": [],
   "source": [
    "# import spacy\n",
    "\n",
    "# #I'm gonna use medium size of this model\n",
    "# nlp = spacy.load('en_core_web_md')"
   ]
  },
  {
   "cell_type": "code",
   "execution_count": 143,
   "metadata": {},
   "outputs": [],
   "source": [
    "# def spacy_semantic_similarity(sentence1, sentence2):\n",
    "#     sentence1 = nlp(sentence1)\n",
    "#     sentence2 = nlp(sentence2)\n",
    "    \n",
    "#     return sentence1.similarity(sentence2)"
   ]
  },
  {
   "cell_type": "code",
   "execution_count": null,
   "metadata": {},
   "outputs": [],
   "source": []
  },
  {
   "cell_type": "code",
   "execution_count": 295,
   "metadata": {},
   "outputs": [],
   "source": [
    "def nlprocess(dataset):\n",
    "    \n",
    "    preprocessed_comments = []\n",
    "    for _, (caption, label) in dataset.iterrows():\n",
    "\n",
    "        #Lowercase\n",
    "        caption = caption.lower()\n",
    "\n",
    "        # Removing Punctuation\n",
    "        caption = \"\".join([char for char in caption if char not in string.punctuation])\n",
    "\n",
    "        # Word Tokenization\n",
    "        caption = word_tokenize(caption)\n",
    "\n",
    "        # Stopword Filtering\n",
    "        stop_words = stopwords.words('english')\n",
    "        caption = [word for word in caption if word not in stop_words]\n",
    "\n",
    "        # Filter \n",
    "    #     caption = pos_tag(caption)\n",
    "    #     print(caption)\n",
    "    #     caption = [word for word, tag in caption if tag not in ('JJ', 'CD', 'VB', 'VBP', 'VBG', 'VBD', 'VBN')]\n",
    "\n",
    "\n",
    "        # Stemming\n",
    "    #     porter = PorterStemmer()\n",
    "    #     caption = [porter.stem(word) for word in caption]\n",
    "\n",
    "\n",
    "        caption = ' '.join(caption)\n",
    "\n",
    "        preprocessed_comments.append(caption)\n",
    "\n",
    "    return preprocessed_comments"
   ]
  },
  {
   "cell_type": "code",
   "execution_count": 296,
   "metadata": {},
   "outputs": [],
   "source": [
    "preprocessed_captions_train = nlprocess(train)\n",
    "preprocessed_captions_test = nlprocess(test)"
   ]
  },
  {
   "cell_type": "code",
   "execution_count": 287,
   "metadata": {},
   "outputs": [
    {
     "name": "stdout",
     "output_type": "stream",
     "text": [
      "              precision    recall  f1-score   support\n",
      "\n",
      "   aeroplane       0.84      0.88      0.86       100\n",
      "     bicycle       0.63      0.76      0.69       100\n",
      "        bird       0.91      0.74      0.82       100\n",
      "        boat       0.82      0.84      0.83       100\n",
      "         bus       0.64      0.89      0.74       100\n",
      "         car       0.61      0.42      0.50       100\n",
      "         cat       0.67      0.87      0.76       100\n",
      "       chair       0.37      0.18      0.24       101\n",
      "         cow       0.80      0.91      0.85       100\n",
      " diningtable       0.60      0.84      0.70       100\n",
      "         dog       0.54      0.66      0.59       100\n",
      "       horse       0.70      0.88      0.78       100\n",
      "   motorbike       0.77      0.72      0.74       100\n",
      "      person       0.23      0.10      0.14       100\n",
      " pottedplant       0.64      0.32      0.43       100\n",
      "       sheep       0.89      0.82      0.85       100\n",
      "        sofa       0.56      0.58      0.57       100\n",
      "       train       0.82      0.95      0.88       100\n",
      "   tvmonitor       0.64      0.65      0.64       100\n",
      "\n",
      "    accuracy                           0.68      1901\n",
      "   macro avg       0.67      0.68      0.66      1901\n",
      "weighted avg       0.67      0.68      0.66      1901\n",
      "\n"
     ]
    }
   ],
   "source": [
    "X_train = preprocessed_captions_train\n",
    "X_test = preprocessed_captions_test\n",
    "\n",
    "y_train = train.label\n",
    "y_test = test.label\n",
    "\n",
    "text_clf = Pipeline([('vect', CountVectorizer()),\n",
    "                     ('tfidf', TfidfTransformer()),\n",
    "                     ('clf', KNeighborsClassifier(n_neighbors=50))])\n",
    "\n",
    "\n",
    "\n",
    "text_clf.fit(X_train, y_train)\n",
    "predicted = text_clf.predict(X_test)\n",
    "print(metrics.classification_report(y_test, predicted))"
   ]
  },
  {
   "cell_type": "code",
   "execution_count": null,
   "metadata": {},
   "outputs": [],
   "source": []
  },
  {
   "cell_type": "code",
   "execution_count": null,
   "metadata": {},
   "outputs": [],
   "source": []
  }
 ],
 "metadata": {
  "kernelspec": {
   "display_name": "Python 3",
   "language": "python",
   "name": "python3"
  },
  "language_info": {
   "codemirror_mode": {
    "name": "ipython",
    "version": 3
   },
   "file_extension": ".py",
   "mimetype": "text/x-python",
   "name": "python",
   "nbconvert_exporter": "python",
   "pygments_lexer": "ipython3",
   "version": "3.8.6"
  }
 },
 "nbformat": 4,
 "nbformat_minor": 4
}
