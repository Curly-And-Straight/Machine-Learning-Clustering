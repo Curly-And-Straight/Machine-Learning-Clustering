{
 "cells": [
  {
   "cell_type": "code",
   "execution_count": null,
   "metadata": {},
   "outputs": [],
   "source": []
  },
  {
   "cell_type": "code",
   "execution_count": 1,
   "metadata": {},
   "outputs": [],
   "source": [
    "import numpy as np\n",
    "import pandas as pd\n",
    "import glob\n",
    "\n",
    "import nltk\n",
    "from nltk import word_tokenize\n",
    "from nltk.corpus import stopwords\n",
    "from nltk.stem.porter import PorterStemmer\n",
    "from nltk import pos_tag\n",
    "import string\n",
    "\n",
    "from sklearn.neighbors import KNeighborsClassifier\n",
    "from sklearn.naive_bayes import MultinomialNB\n",
    "from sklearn.linear_model import LogisticRegression\n",
    "from sklearn.linear_model import SGDClassifier\n",
    "\n",
    "from sklearn.pipeline import Pipeline\n",
    "from sklearn import metrics\n",
    "from sklearn.feature_extraction.text import CountVectorizer\n",
    "from sklearn.feature_extraction.text import TfidfTransformer"
   ]
  },
  {
   "cell_type": "code",
   "execution_count": 2,
   "metadata": {},
   "outputs": [],
   "source": [
    "def create_dataframe(folder_name):\n",
    "    \n",
    "    dataset = pd.DataFrame(columns=['caption', 'label'])\n",
    "\n",
    "    folders = glob.glob('./dataset/{}/sentences/*'.format(folder_name))\n",
    "    for folder in folders:\n",
    "        classes = glob.glob('{}/*.txt'.format(folder))\n",
    "        for caption in classes:\n",
    "            with open(caption, 'r') as file:\n",
    "                inside_file = file.read()\n",
    "                label = str(folder).split('\\\\')[1]\n",
    "                lines = ''\n",
    "                for line in inside_file.split('\\n'):\n",
    "                    if line:\n",
    "                        lines += ' ' + line\n",
    "                dataset = dataset.append({'caption': lines, 'label': label}, ignore_index=True)\n",
    "    return dataset"
   ]
  },
  {
   "cell_type": "code",
   "execution_count": 3,
   "metadata": {},
   "outputs": [
    {
     "data": {
      "text/html": [
       "<div>\n",
       "<style scoped>\n",
       "    .dataframe tbody tr th:only-of-type {\n",
       "        vertical-align: middle;\n",
       "    }\n",
       "\n",
       "    .dataframe tbody tr th {\n",
       "        vertical-align: top;\n",
       "    }\n",
       "\n",
       "    .dataframe thead th {\n",
       "        text-align: right;\n",
       "    }\n",
       "</style>\n",
       "<table border=\"1\" class=\"dataframe\">\n",
       "  <thead>\n",
       "    <tr style=\"text-align: right;\">\n",
       "      <th></th>\n",
       "      <th>caption</th>\n",
       "      <th>label</th>\n",
       "    </tr>\n",
       "  </thead>\n",
       "  <tbody>\n",
       "    <tr>\n",
       "      <th>0</th>\n",
       "      <td>Two gentleman talking in front of propeller p...</td>\n",
       "      <td>aeroplane</td>\n",
       "    </tr>\n",
       "    <tr>\n",
       "      <th>1</th>\n",
       "      <td>A D-ERFW-6 in flight. An army green plane fly...</td>\n",
       "      <td>aeroplane</td>\n",
       "    </tr>\n",
       "    <tr>\n",
       "      <th>2</th>\n",
       "      <td>a larger plane in flying above a smaller plan...</td>\n",
       "      <td>aeroplane</td>\n",
       "    </tr>\n",
       "    <tr>\n",
       "      <th>3</th>\n",
       "      <td>A blue grounded fighter jet is parked on gras...</td>\n",
       "      <td>aeroplane</td>\n",
       "    </tr>\n",
       "    <tr>\n",
       "      <th>4</th>\n",
       "      <td>An airplane sitting on the tarmac at an airpo...</td>\n",
       "      <td>aeroplane</td>\n",
       "    </tr>\n",
       "  </tbody>\n",
       "</table>\n",
       "</div>"
      ],
      "text/plain": [
       "                                             caption      label\n",
       "0   Two gentleman talking in front of propeller p...  aeroplane\n",
       "1   A D-ERFW-6 in flight. An army green plane fly...  aeroplane\n",
       "2   a larger plane in flying above a smaller plan...  aeroplane\n",
       "3   A blue grounded fighter jet is parked on gras...  aeroplane\n",
       "4   An airplane sitting on the tarmac at an airpo...  aeroplane"
      ]
     },
     "execution_count": 3,
     "metadata": {},
     "output_type": "execute_result"
    }
   ],
   "source": [
    "train = create_dataframe('train')\n",
    "train.head()"
   ]
  },
  {
   "cell_type": "code",
   "execution_count": 4,
   "metadata": {},
   "outputs": [
    {
     "data": {
      "text/html": [
       "<div>\n",
       "<style scoped>\n",
       "    .dataframe tbody tr th:only-of-type {\n",
       "        vertical-align: middle;\n",
       "    }\n",
       "\n",
       "    .dataframe tbody tr th {\n",
       "        vertical-align: top;\n",
       "    }\n",
       "\n",
       "    .dataframe thead th {\n",
       "        text-align: right;\n",
       "    }\n",
       "</style>\n",
       "<table border=\"1\" class=\"dataframe\">\n",
       "  <thead>\n",
       "    <tr style=\"text-align: right;\">\n",
       "      <th></th>\n",
       "      <th>caption</th>\n",
       "      <th>label</th>\n",
       "    </tr>\n",
       "  </thead>\n",
       "  <tbody>\n",
       "    <tr>\n",
       "      <th>0</th>\n",
       "      <td>An airplane facing the camera. A plane is sit...</td>\n",
       "      <td>aeroplane</td>\n",
       "    </tr>\n",
       "    <tr>\n",
       "      <th>1</th>\n",
       "      <td>A gray jet on a tarmac. An airplane being ins...</td>\n",
       "      <td>aeroplane</td>\n",
       "    </tr>\n",
       "    <tr>\n",
       "      <th>2</th>\n",
       "      <td>An airplane flies against a colorful sky with...</td>\n",
       "      <td>aeroplane</td>\n",
       "    </tr>\n",
       "    <tr>\n",
       "      <th>3</th>\n",
       "      <td>Two bi-planes are flying side by side, emitti...</td>\n",
       "      <td>aeroplane</td>\n",
       "    </tr>\n",
       "    <tr>\n",
       "      <th>4</th>\n",
       "      <td>A blue and orange airplane flying with its la...</td>\n",
       "      <td>aeroplane</td>\n",
       "    </tr>\n",
       "  </tbody>\n",
       "</table>\n",
       "</div>"
      ],
      "text/plain": [
       "                                             caption      label\n",
       "0   An airplane facing the camera. A plane is sit...  aeroplane\n",
       "1   A gray jet on a tarmac. An airplane being ins...  aeroplane\n",
       "2   An airplane flies against a colorful sky with...  aeroplane\n",
       "3   Two bi-planes are flying side by side, emitti...  aeroplane\n",
       "4   A blue and orange airplane flying with its la...  aeroplane"
      ]
     },
     "execution_count": 4,
     "metadata": {},
     "output_type": "execute_result"
    }
   ],
   "source": [
    "test = create_dataframe('test')\n",
    "test.head()"
   ]
  },
  {
   "cell_type": "code",
   "execution_count": 5,
   "metadata": {},
   "outputs": [
    {
     "name": "stdout",
     "output_type": "stream",
     "text": [
      "<class 'pandas.core.frame.DataFrame'>\n",
      "RangeIndex: 532 entries, 0 to 531\n",
      "Data columns (total 2 columns):\n",
      " #   Column   Non-Null Count  Dtype \n",
      "---  ------   --------------  ----- \n",
      " 0   caption  532 non-null    object\n",
      " 1   label    532 non-null    object\n",
      "dtypes: object(2)\n",
      "memory usage: 4.2+ KB\n"
     ]
    }
   ],
   "source": [
    "train.info()"
   ]
  },
  {
   "cell_type": "code",
   "execution_count": 6,
   "metadata": {},
   "outputs": [
    {
     "name": "stdout",
     "output_type": "stream",
     "text": [
      "<class 'pandas.core.frame.DataFrame'>\n",
      "RangeIndex: 380 entries, 0 to 379\n",
      "Data columns (total 2 columns):\n",
      " #   Column   Non-Null Count  Dtype \n",
      "---  ------   --------------  ----- \n",
      " 0   caption  380 non-null    object\n",
      " 1   label    380 non-null    object\n",
      "dtypes: object(2)\n",
      "memory usage: 3.0+ KB\n"
     ]
    }
   ],
   "source": [
    "test.info()"
   ]
  },
  {
   "cell_type": "code",
   "execution_count": 7,
   "metadata": {},
   "outputs": [],
   "source": [
    "def nlprocess(dataset):\n",
    "    \n",
    "    preprocessed_comments = []\n",
    "    for _, (caption, label) in dataset.iterrows():\n",
    "\n",
    "        #Lowercase\n",
    "        caption = caption.lower()\n",
    "\n",
    "        # Removing Punctuation\n",
    "        caption = \"\".join([char for char in caption if char not in string.punctuation])\n",
    "\n",
    "        # Word Tokenization\n",
    "        caption = word_tokenize(caption)\n",
    "\n",
    "        # Stopword Filtering\n",
    "        stop_words = stopwords.words('english')\n",
    "        caption = [word for word in caption if word not in stop_words]\n",
    "\n",
    "        # Filter \n",
    "#         caption = pos_tag(caption)\n",
    "#         caption = [word for word, tag in caption if tag not in ('JJ', 'CD')]\n",
    "\n",
    "        # Stemming\n",
    "        porter = PorterStemmer()\n",
    "        caption = [porter.stem(word) for word in caption]\n",
    "\n",
    "        caption = ' '.join(caption)\n",
    "\n",
    "        preprocessed_comments.append(caption)\n",
    "\n",
    "    return preprocessed_comments"
   ]
  },
  {
   "cell_type": "code",
   "execution_count": 8,
   "metadata": {},
   "outputs": [],
   "source": [
    "# preprocessed_captions_train = nlprocess(train[train.label == 'person'])\n",
    "preprocessed_captions_train = nlprocess(train)\n",
    "preprocessed_captions_test = nlprocess(test)"
   ]
  },
  {
   "cell_type": "code",
   "execution_count": 9,
   "metadata": {},
   "outputs": [],
   "source": [
    "def machine_learning(algo):\n",
    "    X_train = preprocessed_captions_train\n",
    "    X_test  = preprocessed_captions_test\n",
    "\n",
    "    y_train = train.label\n",
    "    y_test  = test.label\n",
    "\n",
    "    text_clf = Pipeline([('vect', CountVectorizer()),\n",
    "                         ('tfidf', TfidfTransformer()),\n",
    "                         ('clf', algo)])\n",
    "\n",
    "    text_clf.fit(X_train, y_train)\n",
    "    predicted = text_clf.predict(X_test)\n",
    "    \n",
    "    print(metrics.classification_report(y_test, predicted))"
   ]
  },
  {
   "cell_type": "code",
   "execution_count": 47,
   "metadata": {},
   "outputs": [
    {
     "name": "stdout",
     "output_type": "stream",
     "text": [
      "              precision    recall  f1-score   support\n",
      "\n",
      "   aeroplane       0.95      0.95      0.95        20\n",
      "     bicycle       0.66      0.95      0.78        20\n",
      "        bird       1.00      0.80      0.89        20\n",
      "        boat       0.90      0.95      0.93        20\n",
      "         bus       0.73      0.95      0.83        20\n",
      "         car       0.75      0.60      0.67        20\n",
      "         cat       0.86      0.90      0.88        20\n",
      "       chair       0.50      0.20      0.29        20\n",
      "         cow       0.91      1.00      0.95        20\n",
      " diningtable       0.66      0.95      0.78        20\n",
      "         dog       0.55      0.80      0.65        20\n",
      "       horse       0.91      1.00      0.95        20\n",
      "   motorbike       0.79      0.75      0.77        20\n",
      "      person       0.40      0.20      0.27        20\n",
      " pottedplant       1.00      0.35      0.52        20\n",
      "       sheep       1.00      1.00      1.00        20\n",
      "        sofa       0.50      0.70      0.58        20\n",
      "       train       0.91      1.00      0.95        20\n",
      "   tvmonitor       0.93      0.70      0.80        20\n",
      "\n",
      "    accuracy                           0.78       380\n",
      "   macro avg       0.78      0.78      0.76       380\n",
      "weighted avg       0.78      0.78      0.76       380\n",
      "\n"
     ]
    }
   ],
   "source": [
    "machine_learning(algo=KNeighborsClassifier(n_neighbors=50))"
   ]
  },
  {
   "cell_type": "code",
   "execution_count": 11,
   "metadata": {},
   "outputs": [
    {
     "name": "stdout",
     "output_type": "stream",
     "text": [
      "              precision    recall  f1-score   support\n",
      "\n",
      "   aeroplane       0.95      0.95      0.95        20\n",
      "     bicycle       0.71      1.00      0.83        20\n",
      "        bird       1.00      0.85      0.92        20\n",
      "        boat       0.86      0.95      0.90        20\n",
      "         bus       0.76      0.95      0.84        20\n",
      "         car       0.85      0.55      0.67        20\n",
      "         cat       0.86      0.90      0.88        20\n",
      "       chair       0.50      0.20      0.29        20\n",
      "         cow       0.91      1.00      0.95        20\n",
      " diningtable       0.66      0.95      0.78        20\n",
      "         dog       0.59      0.80      0.68        20\n",
      "       horse       0.87      1.00      0.93        20\n",
      "   motorbike       0.89      0.85      0.87        20\n",
      "      person       0.56      0.25      0.34        20\n",
      " pottedplant       0.89      0.40      0.55        20\n",
      "       sheep       0.95      1.00      0.98        20\n",
      "        sofa       0.64      0.80      0.71        20\n",
      "       train       0.91      1.00      0.95        20\n",
      "   tvmonitor       0.80      0.80      0.80        20\n",
      "\n",
      "    accuracy                           0.80       380\n",
      "   macro avg       0.80      0.80      0.78       380\n",
      "weighted avg       0.80      0.80      0.78       380\n",
      "\n"
     ]
    }
   ],
   "source": [
    "machine_learning(algo=MultinomialNB())"
   ]
  },
  {
   "cell_type": "code",
   "execution_count": 48,
   "metadata": {},
   "outputs": [
    {
     "name": "stdout",
     "output_type": "stream",
     "text": [
      "              precision    recall  f1-score   support\n",
      "\n",
      "   aeroplane       1.00      1.00      1.00        20\n",
      "     bicycle       0.70      0.95      0.81        20\n",
      "        bird       1.00      0.85      0.92        20\n",
      "        boat       0.90      0.95      0.93        20\n",
      "         bus       0.79      0.95      0.86        20\n",
      "         car       0.67      0.60      0.63        20\n",
      "         cat       0.86      0.90      0.88        20\n",
      "       chair       0.56      0.25      0.34        20\n",
      "         cow       0.95      1.00      0.98        20\n",
      " diningtable       0.67      1.00      0.80        20\n",
      "         dog       0.64      0.80      0.71        20\n",
      "       horse       0.87      1.00      0.93        20\n",
      "   motorbike       0.94      0.80      0.86        20\n",
      "      person       0.45      0.25      0.32        20\n",
      " pottedplant       0.67      0.40      0.50        20\n",
      "       sheep       1.00      1.00      1.00        20\n",
      "        sofa       0.73      0.80      0.76        20\n",
      "       train       0.91      1.00      0.95        20\n",
      "   tvmonitor       0.80      0.80      0.80        20\n",
      "\n",
      "    accuracy                           0.81       380\n",
      "   macro avg       0.80      0.81      0.79       380\n",
      "weighted avg       0.80      0.81      0.79       380\n",
      "\n"
     ]
    }
   ],
   "source": [
    "machine_learning(algo=SGDClassifier(loss='hinge', penalty='l2',alpha=1e-3, random_state=0, max_iter=5, tol=None))"
   ]
  },
  {
   "cell_type": "code",
   "execution_count": 34,
   "metadata": {},
   "outputs": [
    {
     "name": "stdout",
     "output_type": "stream",
     "text": [
      "              precision    recall  f1-score   support\n",
      "\n",
      "   aeroplane       1.00      0.95      0.97        20\n",
      "     bicycle       0.67      0.90      0.77        20\n",
      "        bird       1.00      0.85      0.92        20\n",
      "        boat       0.86      0.95      0.90        20\n",
      "         bus       0.75      0.90      0.82        20\n",
      "         car       0.58      0.55      0.56        20\n",
      "         cat       0.86      0.95      0.90        20\n",
      "       chair       0.32      0.30      0.31        20\n",
      "         cow       0.91      1.00      0.95        20\n",
      " diningtable       0.56      0.70      0.62        20\n",
      "         dog       0.65      0.65      0.65        20\n",
      "       horse       0.87      1.00      0.93        20\n",
      "   motorbike       1.00      0.65      0.79        20\n",
      "      person       0.33      0.20      0.25        20\n",
      " pottedplant       0.70      0.35      0.47        20\n",
      "       sheep       0.95      1.00      0.98        20\n",
      "        sofa       0.71      0.85      0.77        20\n",
      "       train       0.91      1.00      0.95        20\n",
      "   tvmonitor       0.84      0.80      0.82        20\n",
      "\n",
      "    accuracy                           0.77       380\n",
      "   macro avg       0.76      0.77      0.75       380\n",
      "weighted avg       0.76      0.77      0.75       380\n",
      "\n"
     ]
    }
   ],
   "source": [
    "machine_learning(algo=LogisticRegression(n_jobs=1, C=1e5))"
   ]
  },
  {
   "cell_type": "code",
   "execution_count": null,
   "metadata": {},
   "outputs": [],
   "source": []
  }
 ],
 "metadata": {
  "kernelspec": {
   "display_name": "Python 3",
   "language": "python",
   "name": "python3"
  },
  "language_info": {
   "codemirror_mode": {
    "name": "ipython",
    "version": 3
   },
   "file_extension": ".py",
   "mimetype": "text/x-python",
   "name": "python",
   "nbconvert_exporter": "python",
   "pygments_lexer": "ipython3",
   "version": "3.8.5"
  }
 },
 "nbformat": 4,
 "nbformat_minor": 4
}
